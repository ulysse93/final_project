{
  "cells": [
    {
      "cell_type": "markdown",
      "metadata": {},
      "source": [
        "# Predict the Gender from brain rhythms"
      ]
    },
    {
      "cell_type": "code",
      "execution_count": 105,
      "metadata": {
        "id": "92GEJ1LRS1qZ"
      },
      "outputs": [],
      "source": [
        "import numpy as np\n",
        "import pandas as pd\n",
        "import matplotlib.pyplot as plt\n",
        "import seaborn as sns\n",
        "import h5py\n",
        "import tensorflow as tf\n",
        "from sklearn.impute import SimpleImputer\n",
        "from sklearn.model_selection import train_test_split\n",
        "from sklearn.metrics import confusion_matrix, recall_score, f1_score,classification_report\n",
        "from imblearn.over_sampling import SMOTE\n",
        "from sklearn.preprocessing import StandardScaler\n",
        "from scipy.fft import fft\n"
      ]
    },
    {
      "cell_type": "code",
      "execution_count": 106,
      "metadata": {
        "colab": {
          "base_uri": "https://localhost:8080/"
        },
        "id": "Hwlpd4hNS4xx",
        "outputId": "e2193a33-a23f-455b-ae26-914217e1343e"
      },
      "outputs": [
        {
          "name": "stdout",
          "output_type": "stream",
          "text": [
            "list of datasets in this file ['features']\n",
            "Shape of dataset1 (946, 40, 7, 500)\n"
          ]
        }
      ],
      "source": [
        "\"\"\"https://drive.google.com/file/d/1hPkqP4rcfbtwWalXJPWD7wueHbvDWNE4/view?usp=sharing\"\"\"\n",
        "with h5py.File('X_train_new.h5', 'r') as f:\n",
        "  ls=list(f.keys())\n",
        "  print(f\"list of datasets in this file {ls}\")\n",
        "  data=f.get('features')\n",
        "  dataset=np.array(data)\n",
        "  print(f\"Shape of dataset1 {dataset.shape}\")\n"
      ]
    },
    {
      "cell_type": "code",
      "execution_count": 107,
      "metadata": {
        "colab": {
          "base_uri": "https://localhost:8080/"
        },
        "id": "GtCnNFgVNV42",
        "outputId": "88cba891-bf08-4b3e-b2d5-0683b310715a"
      },
      "outputs": [
        {
          "name": "stdout",
          "output_type": "stream",
          "text": [
            "list of datasets in this file ['features']\n",
            "Shape of dataset1 (946, 40, 7, 500)\n"
          ]
        }
      ],
      "source": [
        "#dataset de test\n",
        "\"\"\"https://drive.google.com/file/d/1hPkqP4rcfbtwWalXJPWD7wueHbvDWNE4/view?usp=sharing\"\"\"\n",
        "with h5py.File('X_test_new.h5', 'r') as f:\n",
        "  ls=list(f.keys())\n",
        "  print(f\"list of datasets in this file {ls}\")\n",
        "  data_test=f.get('features')\n",
        "  dataset_test=np.array(data_test)\n",
        "  print(f\"Shape of dataset1 {dataset_test.shape}\")\n",
        "\n"
      ]
    },
    {
      "cell_type": "code",
      "execution_count": 108,
      "metadata": {
        "id": "qYTN7s4RUUap"
      },
      "outputs": [],
      "source": [
        "y_set=pd.read_csv('y_train_AvCsavx.csv')"
      ]
    },
    {
      "cell_type": "code",
      "execution_count": 109,
      "metadata": {
        "colab": {
          "base_uri": "https://localhost:8080/",
          "height": 206
        },
        "id": "UDk5qiz8nzRS",
        "outputId": "f34df71c-f690-4c12-a481-8c5e893b37c7"
      },
      "outputs": [
        {
          "data": {
            "text/html": [
              "<div>\n",
              "<style scoped>\n",
              "    .dataframe tbody tr th:only-of-type {\n",
              "        vertical-align: middle;\n",
              "    }\n",
              "\n",
              "    .dataframe tbody tr th {\n",
              "        vertical-align: top;\n",
              "    }\n",
              "\n",
              "    .dataframe thead th {\n",
              "        text-align: right;\n",
              "    }\n",
              "</style>\n",
              "<table border=\"1\" class=\"dataframe\">\n",
              "  <thead>\n",
              "    <tr style=\"text-align: right;\">\n",
              "      <th></th>\n",
              "      <th>id</th>\n",
              "      <th>label</th>\n",
              "    </tr>\n",
              "  </thead>\n",
              "  <tbody>\n",
              "    <tr>\n",
              "      <th>0</th>\n",
              "      <td>0</td>\n",
              "      <td>0</td>\n",
              "    </tr>\n",
              "    <tr>\n",
              "      <th>1</th>\n",
              "      <td>1</td>\n",
              "      <td>1</td>\n",
              "    </tr>\n",
              "    <tr>\n",
              "      <th>2</th>\n",
              "      <td>2</td>\n",
              "      <td>0</td>\n",
              "    </tr>\n",
              "    <tr>\n",
              "      <th>3</th>\n",
              "      <td>3</td>\n",
              "      <td>1</td>\n",
              "    </tr>\n",
              "    <tr>\n",
              "      <th>4</th>\n",
              "      <td>4</td>\n",
              "      <td>0</td>\n",
              "    </tr>\n",
              "  </tbody>\n",
              "</table>\n",
              "</div>"
            ],
            "text/plain": [
              "   id  label\n",
              "0   0      0\n",
              "1   1      1\n",
              "2   2      0\n",
              "3   3      1\n",
              "4   4      0"
            ]
          },
          "execution_count": 109,
          "metadata": {},
          "output_type": "execute_result"
        }
      ],
      "source": [
        "y_set.head()"
      ]
    },
    {
      "cell_type": "code",
      "execution_count": 110,
      "metadata": {
        "id": "6FlRGyq2D-3i"
      },
      "outputs": [],
      "source": [
        "# Supprimer la colonne 'id' de la variable cible Y\n",
        "Y = y_set.drop('id', axis=1)"
      ]
    },
    {
      "cell_type": "code",
      "execution_count": 111,
      "metadata": {},
      "outputs": [
        {
          "name": "stdout",
          "output_type": "stream",
          "text": [
            "label\n",
            "homme    737\n",
            "femme    209\n",
            "Name: count, dtype: int64\n"
          ]
        }
      ],
      "source": [
        "Y_temp = Y['label'].map({0: 'homme', 1: 'femme'})\n",
        "print(Y_temp.value_counts())"
      ]
    },
    {
      "cell_type": "code",
      "execution_count": 112,
      "metadata": {},
      "outputs": [
        {
          "data": {
            "image/png": "[encoded data removed]",
            "text/plain": [
              "<Figure size 640x480 with 1 Axes>"
            ]
          },
          "metadata": {},
          "output_type": "display_data"
        }
      ],
      "source": [
        "sns.countplot(x='label', data=Y)\n",
        "plt.xlabel('Genre')\n",
        "plt.xticks(ticks=[0,1], labels=['Homme', 'Femme'])\n",
        "plt.ylabel('Nombre de personnes')\n",
        "\n",
        "plt.show() "
      ]
    },
    {
      "cell_type": "code",
      "execution_count": 113,
      "metadata": {
        "colab": {
          "base_uri": "https://localhost:8080/",
          "height": 206
        },
        "id": "X4ILNrWfflmx",
        "outputId": "028fcab2-56d3-47ca-f61f-b89732b0f611"
      },
      "outputs": [
        {
          "data": {
            "text/html": [
              "<div>\n",
              "<style scoped>\n",
              "    .dataframe tbody tr th:only-of-type {\n",
              "        vertical-align: middle;\n",
              "    }\n",
              "\n",
              "    .dataframe tbody tr th {\n",
              "        vertical-align: top;\n",
              "    }\n",
              "\n",
              "    .dataframe thead th {\n",
              "        text-align: right;\n",
              "    }\n",
              "</style>\n",
              "<table border=\"1\" class=\"dataframe\">\n",
              "  <thead>\n",
              "    <tr style=\"text-align: right;\">\n",
              "      <th></th>\n",
              "      <th>label</th>\n",
              "    </tr>\n",
              "  </thead>\n",
              "  <tbody>\n",
              "    <tr>\n",
              "      <th>0</th>\n",
              "      <td>0</td>\n",
              "    </tr>\n",
              "    <tr>\n",
              "      <th>1</th>\n",
              "      <td>1</td>\n",
              "    </tr>\n",
              "    <tr>\n",
              "      <th>2</th>\n",
              "      <td>0</td>\n",
              "    </tr>\n",
              "    <tr>\n",
              "      <th>3</th>\n",
              "      <td>1</td>\n",
              "    </tr>\n",
              "    <tr>\n",
              "      <th>4</th>\n",
              "      <td>0</td>\n",
              "    </tr>\n",
              "  </tbody>\n",
              "</table>\n",
              "</div>"
            ],
            "text/plain": [
              "   label\n",
              "0      0\n",
              "1      1\n",
              "2      0\n",
              "3      1\n",
              "4      0"
            ]
          },
          "execution_count": 113,
          "metadata": {},
          "output_type": "execute_result"
        }
      ],
      "source": [
        "Y.head()"
      ]
    },
    {
      "cell_type": "code",
      "execution_count": 114,
      "metadata": {},
      "outputs": [
        {
          "name": "stdout",
          "output_type": "stream",
          "text": [
            "(946, 40, 7, 500)\n"
          ]
        }
      ],
      "source": [
        "# Fonction pour appliquer la transformation FFT (Fast Fourier Transform)\n",
        "def apply_fft(data):\n",
        "    transformed_data = np.zeros_like(data, dtype=complex)\n",
        "    for i in range(data.shape[0]):\n",
        "        for j in range(data.shape[1]):\n",
        "            for k in range(data.shape[2]):\n",
        "                transformed_data[i, j, k, :] = fft(data[i, j, k, :])\n",
        "    return transformed_data\n",
        "\n",
        "frequency_data = apply_fft(dataset)\n",
        "print(frequency_data.shape) \n"
      ]
    },
    {
      "cell_type": "code",
      "execution_count": 115,
      "metadata": {},
      "outputs": [],
      "source": [
        "# Fonction pour calculer les paramètres de Hjorth : Activité, Mobilité, et Complexité\n",
        "\n",
        "def hjorth_parameters(data):\n",
        "    \"\"\"Calculate Hjorth parameters: Activity, Mobility, and Complexity.\"\"\"\n",
        "    first_deriv = np.diff(data)\n",
        "    second_deriv = np.diff(first_deriv)\n",
        "    \n",
        "    activity = np.var(data)\n",
        "    mobility = np.sqrt(np.var(first_deriv) / activity)\n",
        "    complexity = np.sqrt(np.var(second_deriv) / np.var(first_deriv)) / mobility\n",
        "    \n",
        "    return activity, mobility, complexity\n"
      ]
    },
    {
      "cell_type": "code",
      "execution_count": 116,
      "metadata": {},
      "outputs": [],
      "source": [
        "# Fonction pour calculer l'entropie spectrale\n",
        "\n",
        "def spectral_entropy(data, sampling_rate):\n",
        "    \"\"\"Calculate spectral entropy.\"\"\"\n",
        "    power_spectrum = np.abs(np.fft.fft(data))**2\n",
        "    power_spectrum = power_spectrum[:len(power_spectrum) // 2]\n",
        "    ps_norm = power_spectrum / np.sum(power_spectrum)\n",
        "    entropy = -np.sum(ps_norm * np.log2(ps_norm + 1e-12))\n",
        "    return entropy\n"
      ]
    },
    {
      "cell_type": "code",
      "execution_count": 117,
      "metadata": {},
      "outputs": [],
      "source": [
        "# Fonction pour extraire les caractéristiques des données\n",
        "def extract_features(data, sampling_rate=250):\n",
        "    features = []\n",
        "    for sample in data:\n",
        "        sample_features = []\n",
        "        for segment in sample:\n",
        "            for channel in segment:\n",
        "                # Calcul des features\n",
        "                hjorth_params = hjorth_parameters(channel)\n",
        "                entropy = spectral_entropy(channel, sampling_rate)\n",
        "                sample_features.extend(hjorth_params)\n",
        "                sample_features.append(entropy)\n",
        "        features.append(sample_features)\n",
        "    return np.array(features)"
      ]
    },
    {
      "cell_type": "code",
      "execution_count": 118,
      "metadata": {},
      "outputs": [
        {
          "name": "stderr",
          "output_type": "stream",
          "text": [
            "C:\\Users\\seddi\\AppData\\Local\\Temp\\ipykernel_66720\\3914894717.py:9: RuntimeWarning: invalid value encountered in scalar divide\n",
            "  mobility = np.sqrt(np.var(first_deriv) / activity)\n",
            "C:\\Users\\seddi\\AppData\\Local\\Temp\\ipykernel_66720\\3914894717.py:10: RuntimeWarning: invalid value encountered in scalar divide\n",
            "  complexity = np.sqrt(np.var(second_deriv) / np.var(first_deriv)) / mobility\n",
            "C:\\Users\\seddi\\AppData\\Local\\Temp\\ipykernel_66720\\4205310169.py:7: RuntimeWarning: invalid value encountered in divide\n",
            "  ps_norm = power_spectrum / np.sum(power_spectrum)\n"
          ]
        },
        {
          "name": "stdout",
          "output_type": "stream",
          "text": [
            "(946, 1120)\n"
          ]
        }
      ],
      "source": [
        "features_data = extract_features(frequency_data.real)\n",
        "print(features_data.shape)"
      ]
    },
    {
      "cell_type": "code",
      "execution_count": 119,
      "metadata": {},
      "outputs": [],
      "source": [
        "# Division des données en ensembles d'entraînement et de test\n",
        "X_train, X_test, y_train, y_test = train_test_split(features_data, Y, test_size=0.2, random_state=42)"
      ]
    },
    {
      "cell_type": "code",
      "execution_count": 120,
      "metadata": {},
      "outputs": [],
      "source": [
        "#Processing\n",
        "# Normalisation des données\n",
        "scaler = StandardScaler()\n",
        "X_train = scaler.fit_transform(X_train)\n",
        "X_test = scaler.transform(X_test)\n",
        "#imputation des valeurs manquantes\n",
        "imputer = SimpleImputer(strategy='mean')\n",
        "X_train = imputer.fit_transform(X_train)\n",
        "X_test = imputer.transform(X_test)\n",
        "\n"
      ]
    },
    {
      "cell_type": "code",
      "execution_count": 121,
      "metadata": {},
      "outputs": [],
      "source": [
        "#Gerer le desiquilibre des classes\n",
        "smote = SMOTE(random_state=42)\n",
        "X_train, y_train = smote.fit_resample(X_train, y_train)"
      ]
    },
    {
      "cell_type": "code",
      "execution_count": 122,
      "metadata": {},
      "outputs": [],
      "source": [
        "\n",
        "# Reshape pour le model\n",
        "X_train = X_train.reshape(X_train.shape[0], 40, 7, -1)\n",
        "X_test = X_test.reshape(X_test.shape[0], 40, 7, -1)\n"
      ]
    },
    {
      "cell_type": "code",
      "execution_count": 123,
      "metadata": {},
      "outputs": [
        {
          "name": "stdout",
          "output_type": "stream",
          "text": [
            "(1182, 40, 7, 4) (190, 40, 7, 4) (1182, 1) (190, 1)\n"
          ]
        }
      ],
      "source": [
        "print(X_train.shape, X_test.shape, y_train.shape, y_test.shape)"
      ]
    },
    {
      "cell_type": "code",
      "execution_count": 124,
      "metadata": {},
      "outputs": [
        {
          "name": "stderr",
          "output_type": "stream",
          "text": [
            "C:\\Users\\seddi\\AppData\\Local\\Packages\\PythonSoftwareFoundation.Python.3.12_qbz5n2kfra8p0\\LocalCache\\local-packages\\Python312\\site-packages\\keras\\src\\layers\\convolutional\\base_conv.py:99: UserWarning: Do not pass an `input_shape`/`input_dim` argument to a layer. When using Sequential models, prefer using an `Input(shape)` object as the first layer in the model instead.\n",
            "  super().__init__(\n"
          ]
        }
      ],
      "source": [
        "# Creation du modele \n",
        "model = tf.keras.Sequential([\n",
        "    tf.keras.layers.Conv2D(300, kernel_size=(3, 3), activation='relu', padding='same', input_shape=(40, 7, 4)),\n",
        "    tf.keras.layers.MaxPooling2D(pool_size=(2, 2)),\n",
        "    tf.keras.layers.Dropout(0.3),\n",
        "    tf.keras.layers.Conv2D(100, kernel_size=(1, 1), activation='relu', padding='same'),\n",
        "    tf.keras.layers.Dropout(0.25),\n",
        "    tf.keras.layers.Flatten(),\n",
        "    tf.keras.layers.Dense(64, activation='relu'),\n",
        "    tf.keras.layers.Dense(128, activation='relu'),\n",
        "    tf.keras.layers.Dense(1, activation='sigmoid')\n",
        "])\n"
      ]
    },
    {
      "cell_type": "code",
      "execution_count": 125,
      "metadata": {},
      "outputs": [
        {
          "name": "stdout",
          "output_type": "stream",
          "text": [
            "Epoch 1/20\n",
            "\u001b[1m37/37\u001b[0m \u001b[32m━━━━━━━━━━━━━━━━━━━━\u001b[0m\u001b[37m\u001b[0m \u001b[1m26s\u001b[0m 227ms/step - accuracy: 0.5238 - loss: 0.6960 - val_accuracy: 0.6158 - val_loss: 1.2920\n",
            "Epoch 2/20\n",
            "\u001b[1m37/37\u001b[0m \u001b[32m━━━━━━━━━━━━━━━━━━━━\u001b[0m\u001b[37m\u001b[0m \u001b[1m8s\u001b[0m 173ms/step - accuracy: 0.7733 - loss: 0.5575 - val_accuracy: 0.7316 - val_loss: 6.0051\n",
            "Epoch 3/20\n",
            "\u001b[1m37/37\u001b[0m \u001b[32m━━━━━━━━━━━━━━━━━━━━\u001b[0m\u001b[37m\u001b[0m \u001b[1m5s\u001b[0m 108ms/step - accuracy: 0.8587 - loss: 0.3569 - val_accuracy: 0.6263 - val_loss: 4.0285\n",
            "Epoch 4/20\n",
            "\u001b[1m37/37\u001b[0m \u001b[32m━━━━━━━━━━━━━━━━━━━━\u001b[0m\u001b[37m\u001b[0m \u001b[1m5s\u001b[0m 88ms/step - accuracy: 0.8945 - loss: 0.2661 - val_accuracy: 0.7632 - val_loss: 10.2144\n",
            "Epoch 5/20\n",
            "\u001b[1m37/37\u001b[0m \u001b[32m━━━━━━━━━━━━━━━━━━━━\u001b[0m\u001b[37m\u001b[0m \u001b[1m4s\u001b[0m 95ms/step - accuracy: 0.9103 - loss: 0.2117 - val_accuracy: 0.4737 - val_loss: 10.3738\n",
            "Epoch 6/20\n",
            "\u001b[1m37/37\u001b[0m \u001b[32m━━━━━━━━━━━━━━━━━━━━\u001b[0m\u001b[37m\u001b[0m \u001b[1m4s\u001b[0m 95ms/step - accuracy: 0.9111 - loss: 0.2060 - val_accuracy: 0.5368 - val_loss: 10.6406\n",
            "Epoch 7/20\n",
            "\u001b[1m37/37\u001b[0m \u001b[32m━━━━━━━━━━━━━━━━━━━━\u001b[0m\u001b[37m\u001b[0m \u001b[1m4s\u001b[0m 102ms/step - accuracy: 0.9533 - loss: 0.1238 - val_accuracy: 0.7000 - val_loss: 15.2180\n",
            "Epoch 8/20\n",
            "\u001b[1m37/37\u001b[0m \u001b[32m━━━━━━━━━━━━━━━━━━━━\u001b[0m\u001b[37m\u001b[0m \u001b[1m5s\u001b[0m 95ms/step - accuracy: 0.9561 - loss: 0.1114 - val_accuracy: 0.7579 - val_loss: 16.5196\n",
            "Epoch 9/20\n",
            "\u001b[1m37/37\u001b[0m \u001b[32m━━━━━━━━━━━━━━━━━━━━\u001b[0m\u001b[37m\u001b[0m \u001b[1m5s\u001b[0m 138ms/step - accuracy: 0.9693 - loss: 0.0731 - val_accuracy: 0.7421 - val_loss: 20.1664\n",
            "Epoch 10/20\n",
            "\u001b[1m37/37\u001b[0m \u001b[32m━━━━━━━━━━━━━━━━━━━━\u001b[0m\u001b[37m\u001b[0m \u001b[1m4s\u001b[0m 105ms/step - accuracy: 0.9721 - loss: 0.0806 - val_accuracy: 0.6947 - val_loss: 22.2823\n",
            "Epoch 11/20\n",
            "\u001b[1m37/37\u001b[0m \u001b[32m━━━━━━━━━━━━━━━━━━━━\u001b[0m\u001b[37m\u001b[0m \u001b[1m3s\u001b[0m 88ms/step - accuracy: 0.9790 - loss: 0.0547 - val_accuracy: 0.7158 - val_loss: 22.1853\n",
            "Epoch 12/20\n",
            "\u001b[1m37/37\u001b[0m \u001b[32m━━━━━━━━━━━━━━━━━━━━\u001b[0m\u001b[37m\u001b[0m \u001b[1m4s\u001b[0m 95ms/step - accuracy: 0.9853 - loss: 0.0446 - val_accuracy: 0.6789 - val_loss: 23.6710\n",
            "Epoch 13/20\n",
            "\u001b[1m37/37\u001b[0m \u001b[32m━━━━━━━━━━━━━━━━━━━━\u001b[0m\u001b[37m\u001b[0m \u001b[1m5s\u001b[0m 92ms/step - accuracy: 0.9832 - loss: 0.0574 - val_accuracy: 0.7368 - val_loss: 18.9561\n",
            "Epoch 14/20\n",
            "\u001b[1m37/37\u001b[0m \u001b[32m━━━━━━━━━━━━━━━━━━━━\u001b[0m\u001b[37m\u001b[0m \u001b[1m6s\u001b[0m 123ms/step - accuracy: 0.9908 - loss: 0.0408 - val_accuracy: 0.6632 - val_loss: 22.4523\n",
            "Epoch 15/20\n",
            "\u001b[1m37/37\u001b[0m \u001b[32m━━━━━━━━━━━━━━━━━━━━\u001b[0m\u001b[37m\u001b[0m \u001b[1m5s\u001b[0m 121ms/step - accuracy: 0.9858 - loss: 0.0419 - val_accuracy: 0.6684 - val_loss: 25.9102\n",
            "Epoch 16/20\n",
            "\u001b[1m37/37\u001b[0m \u001b[32m━━━━━━━━━━━━━━━━━━━━\u001b[0m\u001b[37m\u001b[0m \u001b[1m7s\u001b[0m 189ms/step - accuracy: 0.9892 - loss: 0.0459 - val_accuracy: 0.6632 - val_loss: 28.3347\n",
            "Epoch 17/20\n",
            "\u001b[1m37/37\u001b[0m \u001b[32m━━━━━━━━━━━━━━━━━━━━\u001b[0m\u001b[37m\u001b[0m \u001b[1m10s\u001b[0m 175ms/step - accuracy: 0.9937 - loss: 0.0257 - val_accuracy: 0.6895 - val_loss: 31.2199\n",
            "Epoch 18/20\n",
            "\u001b[1m37/37\u001b[0m \u001b[32m━━━━━━━━━━━━━━━━━━━━\u001b[0m\u001b[37m\u001b[0m \u001b[1m12s\u001b[0m 205ms/step - accuracy: 0.9863 - loss: 0.0439 - val_accuracy: 0.7158 - val_loss: 23.7607\n",
            "Epoch 19/20\n",
            "\u001b[1m37/37\u001b[0m \u001b[32m━━━━━━━━━━━━━━━━━━━━\u001b[0m\u001b[37m\u001b[0m \u001b[1m10s\u001b[0m 169ms/step - accuracy: 0.9818 - loss: 0.0594 - val_accuracy: 0.7211 - val_loss: 26.6945\n",
            "Epoch 20/20\n",
            "\u001b[1m37/37\u001b[0m \u001b[32m━━━━━━━━━━━━━━━━━━━━\u001b[0m\u001b[37m\u001b[0m \u001b[1m7s\u001b[0m 183ms/step - accuracy: 0.9891 - loss: 0.0297 - val_accuracy: 0.7211 - val_loss: 25.2930\n"
          ]
        }
      ],
      "source": [
        "# Compilation du modèle\n",
        "model.compile(optimizer='adam', loss='binary_crossentropy', metrics=['accuracy'])\n",
        "# Entraînement du modèle\n",
        "m = model.fit(X_train, y_train, epochs=20,batch_size=32, validation_data=(X_test, y_test))#, validation_data=(X_test, y_test)\n",
        "\n"
      ]
    },
    {
      "cell_type": "code",
      "execution_count": 126,
      "metadata": {},
      "outputs": [
        {
          "data": {
            "text/plain": [
              "<matplotlib.legend.Legend at 0x27989c43680>"
            ]
          },
          "execution_count": 126,
          "metadata": {},
          "output_type": "execute_result"
        },
        {
          "data": {
            "image/png": "[encoded data removed]",
            "text/plain": [
              "<Figure size 1200x600 with 2 Axes>"
            ]
          },
          "metadata": {},
          "output_type": "display_data"
        }
      ],
      "source": [
        "# Visualization of loss\n",
        "plt.figure(figsize=(12, 6))\n",
        "plt.subplot(1, 2, 1)\n",
        "plt.plot(m.history[\"loss\"], color=\"b\")\n",
        "plt.plot(m.history[\"val_loss\"], color=\"r\")\n",
        "plt.ylabel(\"loss\")\n",
        "plt.xlabel(\"Epochs\")\n",
        "plt.legend(labels=['loss','val_loss'])\n",
        "# Visualization of accuracy\n",
        "plt.subplot(1, 2, 2)\n",
        "plt.plot(m.history[\"accuracy\"], color=\"b\")\n",
        "plt.plot(m.history[\"val_accuracy\"], color=\"r\")\n",
        "plt.ylabel(\"Accuracy\")\n",
        "plt.xlabel(\"Epochs\")\n",
        "plt.legend(labels=['accuracy','val_accuracy'])"
      ]
    },
    {
      "cell_type": "code",
      "execution_count": 127,
      "metadata": {},
      "outputs": [
        {
          "name": "stdout",
          "output_type": "stream",
          "text": [
            "\u001b[1m6/6\u001b[0m \u001b[32m━━━━━━━━━━━━━━━━━━━━\u001b[0m\u001b[37m\u001b[0m \u001b[1m2s\u001b[0m 141ms/step\n"
          ]
        },
        {
          "data": {
            "image/png": "[encoded data removed]",
            "text/plain": [
              "<Figure size 1000x700 with 2 Axes>"
            ]
          },
          "metadata": {},
          "output_type": "display_data"
        }
      ],
      "source": [
        "#Evaluation\n",
        "\n",
        "y_pred_prob = model.predict(X_test)\n",
        "# Convertir les probabilités en classes binaires\n",
        "y_pred = (y_pred_prob > 0.5).astype(int)\n",
        "# Calculer la matrice de confusion\n",
        "cm = confusion_matrix(y_test, y_pred)\n",
        "# Afficher la matrice de confusion\n",
        "plt.figure(figsize=(10, 7))\n",
        "sns.heatmap(cm, annot=True, fmt='d', cmap='Blues', xticklabels=['Negative', 'Positive'], yticklabels=['Negative', 'Positive'])\n",
        "plt.xlabel('Predicted')\n",
        "plt.ylabel('True')\n",
        "plt.title('Confusion Matrix')\n",
        "plt.show()\n"
      ]
    },
    {
      "cell_type": "code",
      "execution_count": 128,
      "metadata": {},
      "outputs": [
        {
          "name": "stdout",
          "output_type": "stream",
          "text": [
            "              precision    recall  f1-score   support\n",
            "\n",
            "    Negative       0.79      0.86      0.83       146\n",
            "    Positive       0.35      0.25      0.29        44\n",
            "\n",
            "    accuracy                           0.72       190\n",
            "   macro avg       0.57      0.56      0.56       190\n",
            "weighted avg       0.69      0.72      0.70       190\n",
            "\n"
          ]
        }
      ],
      "source": [
        "\n",
        "# Afficher un rapport de classification\n",
        "print(classification_report(y_test, y_pred, target_names=['Negative', 'Positive']))"
      ]
    },
    {
      "cell_type": "code",
      "execution_count": 129,
      "metadata": {},
      "outputs": [
        {
          "name": "stderr",
          "output_type": "stream",
          "text": [
            "WARNING:absl:You are saving your model as an HDF5 file via `model.save()` or `keras.saving.save_model(model)`. This file format is considered legacy. We recommend using instead the native Keras format, e.g. `model.save('my_model.keras')` or `keras.saving.save_model(model, 'my_model.keras')`. \n"
          ]
        }
      ],
      "source": [
        "#Sauvegarde du modele\n",
        "model.save('streamlit/model_cnn.h5') "
      ]
    },
    {
      "cell_type": "code",
      "execution_count": 130,
      "metadata": {
        "colab": {
          "base_uri": "https://localhost:8080/",
          "height": 351
        },
        "id": "bw-bryt7tRn9",
        "outputId": "15b12e34-0195-44e5-8cb5-056e0801c56e"
      },
      "outputs": [
        {
          "data": {
            "text/plain": [
              "(946, 40, 7, 4)"
            ]
          },
          "execution_count": 130,
          "metadata": {},
          "output_type": "execute_result"
        }
      ],
      "source": [
        "# charger et evaluer le model avec les données de test\n",
        "dataset_test = apply_fft(dataset_test)\n",
        "dataset_test = extract_features(dataset_test.real)\n",
        "dataset_test = dataset_test.reshape(dataset_test.shape[0], 40, 7, -1)\n",
        "dataset_test.shape\n",
        "\n",
        "\n"
      ]
    },
    {
      "cell_type": "code",
      "execution_count": 131,
      "metadata": {},
      "outputs": [
        {
          "name": "stdout",
          "output_type": "stream",
          "text": [
            "\u001b[1m30/30\u001b[0m \u001b[32m━━━━━━━━━━━━━━━━━━━━\u001b[0m\u001b[37m\u001b[0m \u001b[1m2s\u001b[0m 30ms/step\n"
          ]
        },
        {
          "data": {
            "image/png": "[encoded data removed]",
            "text/plain": [
              "<Figure size 400x300 with 1 Axes>"
            ]
          },
          "metadata": {},
          "output_type": "display_data"
        }
      ],
      "source": [
        "# Evaluation sur les données test\n",
        "y_pred = model.predict(dataset_test)\n",
        "y_pred\n",
        "# Convertir les probabilités en classes prédites (0 ou 1)\n",
        "y_pred_classes = (y_pred > 0.5).astype(int)\n",
        "\n",
        "# Calculer la matrice de confusion\n",
        "y_test=y_set.drop('id', axis=1)\n",
        "conf_matrix = confusion_matrix(y_test, y_pred_classes)\n",
        "# Afficher la matrice de confusion sous forme de heatmap\n",
        "plt.figure(figsize=(4, 3))\n",
        "sns.heatmap(conf_matrix, annot=True, fmt='d', cmap='Blues', xticklabels=['Homme', 'Femme'], yticklabels=['Homme', 'Femme'], cbar=False)\n",
        "plt.xlabel('Prédictions')\n",
        "plt.ylabel('Vraies étiquettes')\n",
        "plt.title('Matrice de confusion')\n",
        "plt.show()\n",
        "\n"
      ]
    },
    {
      "cell_type": "code",
      "execution_count": 132,
      "metadata": {
        "colab": {
          "base_uri": "https://localhost:8080/"
        },
        "id": "38PV-jIXpqx6",
        "outputId": "ecae1671-4ac9-4ee7-a828-b638d0a6733c"
      },
      "outputs": [
        {
          "name": "stdout",
          "output_type": "stream",
          "text": [
            "Rappel (recall) : 0.1722488038277512\n",
            "Score F1 : 0.19618528610354224\n"
          ]
        }
      ],
      "source": [
        "# Calculer le rappel (recall) pour la classe positive (1)\n",
        "recall = recall_score(y_test, y_pred_classes)\n",
        "print(\"Rappel (recall) :\", recall)\n",
        "\n",
        "# Calculer le score F1\n",
        "f1 = f1_score(y_test, y_pred_classes)\n",
        "print(\"Score F1 :\", f1)\n",
        "\n"
      ]
    }
  ],
  "metadata": {
    "accelerator": "GPU",
    "colab": {
      "gpuType": "T4",
      "provenance": []
    },
    "kernelspec": {
      "display_name": "Python 3",
      "name": "python3"
    },
    "language_info": {
      "codemirror_mode": {
        "name": "ipython",
        "version": 3
      },
      "file_extension": ".py",
      "mimetype": "text/x-python",
      "name": "python",
      "nbconvert_exporter": "python",
      "pygments_lexer": "ipython3",
      "version": "3.12.4"
    }
  },
  "nbformat": 4,
  "nbformat_minor": 0
}
